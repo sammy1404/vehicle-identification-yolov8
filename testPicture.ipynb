{
 "cells": [
  {
   "cell_type": "code",
   "execution_count": 3,
   "metadata": {},
   "outputs": [
    {
     "name": "stdout",
     "output_type": "stream",
     "text": [
      "\n",
      "image 1/1 /Users/samsusikar/Downloads/car image segmentation/archive/Apply_Grayscale/Apply_Grayscale/Vehicles_Detection.v9i.yolov8/test/images/frame_1004_jpg.rf.a6f441255e54620ea11fb3cf34fc0a97.jpg: 640x640 1 Bus, 15 Cars, 9 Motorcycles, 3 Pickups, 61.5ms\n",
      "Speed: 2.9ms preprocess, 61.5ms inference, 2.9ms postprocess per image at shape (1, 3, 640, 640)\n"
     ]
    }
   ],
   "source": [
    "import cv2\n",
    "from ultralytics import YOLO\n",
    "\n",
    "model = YOLO(\"/Users/samsusikar/Downloads/car image segmentation/runs/detect/train/weights/best.pt\")\n",
    "\n",
    "# test image path\n",
    "results = model(\"/Users/samsusikar/Downloads/car image segmentation/archive/Apply_Grayscale/Apply_Grayscale/Vehicles_Detection.v9i.yolov8/test/images/frame_1004_jpg.rf.a6f441255e54620ea11fb3cf34fc0a97.jpg\")\n",
    "\n",
    "# Extract the first image with bounding boxes (results.ims is a list of images)\n",
    "image_with_boxes = results[0].plot()  # plot() returns the image with boxes\n",
    "\n",
    "# Display the image using OpenCV\n",
    "cv2.imshow(\"Detection Results\", image_with_boxes)\n",
    "\n",
    "# Wait until a key is pressed to close the window\n",
    "cv2.waitKey(0)\n",
    "cv2.destroyAllWindows()\n"
   ]
  },
  {
   "cell_type": "markdown",
   "metadata": {},
   "source": []
  },
  {
   "cell_type": "markdown",
   "metadata": {},
   "source": []
  }
 ],
 "metadata": {
  "kernelspec": {
   "display_name": "Python 3",
   "language": "python",
   "name": "python3"
  },
  "language_info": {
   "codemirror_mode": {
    "name": "ipython",
    "version": 3
   },
   "file_extension": ".py",
   "mimetype": "text/x-python",
   "name": "python",
   "nbconvert_exporter": "python",
   "pygments_lexer": "ipython3",
   "version": "3.9.6"
  }
 },
 "nbformat": 4,
 "nbformat_minor": 2
}
